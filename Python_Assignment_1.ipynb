{
  "nbformat": 4,
  "nbformat_minor": 0,
  "metadata": {
    "colab": {
      "provenance": []
    },
    "kernelspec": {
      "name": "python3",
      "display_name": "Python 3"
    },
    "language_info": {
      "name": "python"
    }
  },
  "cells": [
    {
      "cell_type": "code",
      "execution_count": 2,
      "metadata": {
        "colab": {
          "base_uri": "https://localhost:8080/"
        },
        "id": "ade6XtiGICy9",
        "outputId": "cb3a99fd-1b55-48dd-dfdc-4a7eafb4e14a"
      },
      "outputs": [
        {
          "output_type": "stream",
          "name": "stdout",
          "text": [
            "Prices on Each Date:\n",
            "Price of Day 1 is 100\n",
            "Price of Day 2 is 180\n",
            "Price of Day 3 is 260\n",
            "Price of Day 4 is 310\n",
            "Price of Day 5 is 40\n",
            "Price of Day 6 is 535\n",
            "Price of Day 7 is 695\n",
            "Buy on day 5 and sell on day 7\n"
          ]
        }
      ],
      "source": [
        "def find_best_days(prices):\n",
        "    min_price = float('inf')\n",
        "    max_profit = 0\n",
        "    buy_day = 0\n",
        "    sell_day = 0\n",
        "    \n",
        "    for i in range(len(prices)):\n",
        "        if prices[i] < min_price:\n",
        "            min_price = prices[i]\n",
        "            buy_day = i\n",
        "        \n",
        "        profit = prices[i] - min_price\n",
        "        if profit > max_profit:\n",
        "            max_profit = profit\n",
        "            sell_day = i\n",
        "    \n",
        "    return (buy_day+1, sell_day+1)\n",
        "prices = [100, 180, 260, 310, 40, 535, 695]\n",
        "print(f\"Prices on Each Date:\")\n",
        "for i in range(0,len(prices)):\n",
        "    print(\"Price of Day\",i+1,\"is\",prices[i])\n",
        "best_days = find_best_days(prices)\n",
        "print(f\"Buy on day {best_days[0]} and sell on day {best_days[1]}\")"
      ]
    },
    {
      "cell_type": "code",
      "source": [
        "def find_trilogy_year(books):\n",
        "    years = sorted(set(books.values()))\n",
        "    \n",
        "    for i in range(len(years)-2):\n",
        "        if (years[i+2] - years[i+1] == years[i+1] - years[i]) and \\\n",
        "        any(years[i+1] == year for book, year in books.items() if years[i] <= year <= years[i+2]):\n",
        "            return years[i]\n",
        "    \n",
        "    return None\n",
        "\n",
        "books = {'The Hunger Games': 2008, 'Catching Fire': 2009, 'Mockingjay': 2010, 'The Lord of the Rings': 1954, \\\n",
        "                 'The Return of the King': 1956, 'Divergent': 2011, 'Insurgent':2012,'Allegiant':2013,  'The Two Towers':1955}\n",
        "trilogy_year = find_trilogy_year(books)\n",
        "print(f\"The earliest year in which a trilogy was published is {trilogy_year}\")"
      ],
      "metadata": {
        "colab": {
          "base_uri": "https://localhost:8080/"
        },
        "id": "31DBSYJCISJd",
        "outputId": "d8815995-12bf-459f-f074-7028e5fb47bf"
      },
      "execution_count": 4,
      "outputs": [
        {
          "output_type": "stream",
          "name": "stdout",
          "text": [
            "The earliest year in which a trilogy was published is 1954\n"
          ]
        }
      ]
    },
    {
      "cell_type": "code",
      "source": [
        "import csv\n",
        "\n",
        "# Open the CSV file and read in the data\n",
        "with open('3_csv.csv') as file:\n",
        "    reader = csv.reader(file)\n",
        "    # Skip the header row\n",
        "    next(reader)\n",
        "    # Create an empty dictionary to store the prices for each stock\n",
        "    prices = {}\n",
        "    # Loop through each row of the CSV file\n",
        "    for row in reader:\n",
        "        # Extract the symbol, date, and price from the row\n",
        "        ticker, date, price = row\n",
        "        # Convert the price from a string to a float\n",
        "        price = float(price)\n",
        "        # Check if the ticker symbol is already in the dictionary\n",
        "        if ticker in prices:\n",
        "            # If the ticker symbol is already in the dictionary, add the price to the list of prices for that stock\n",
        "            prices[ticker].append(price)\n",
        "        else:\n",
        "            # If the ticker symbol is not already in the dictionary, create a new list with the first price\n",
        "            prices[ticker] = [price]\n",
        "\n",
        "# Loop through the dictionary of prices for each stock\n",
        "for ticker, price_list in prices.items():\n",
        "    # Calculate the highest and lowest prices for the stock\n",
        "    highest_price = max(price_list)\n",
        "    lowest_price = min(price_list)\n",
        "    # Print the results\n",
        "    print(f\"{ticker}: Highest Price = ${highest_price:.2f}, Lowest Price = ${lowest_price:.2f}\")"
      ],
      "metadata": {
        "colab": {
          "base_uri": "https://localhost:8080/"
        },
        "id": "brQbK456IXV0",
        "outputId": "25fba0d3-8e0f-4b1c-e861-aa91ea926343"
      },
      "execution_count": 7,
      "outputs": [
        {
          "output_type": "stream",
          "name": "stdout",
          "text": [
            "AAPL: Highest Price = $142.20, Lowest Price = $138.45\n",
            "GOOG: Highest Price = $2125.50, Lowest Price = $2098.00\n",
            "MSFT: Highest Price = $345.20, Lowest Price = $342.10\n"
          ]
        }
      ]
    },
    {
      "cell_type": "code",
      "source": [
        "# Define the list of lists with duplicates\n",
        "list_of_lists =  [[10, 20], [40], [30, 56, 25], [10, 20], [33], [40]]\n",
        "\n",
        "# Create an empty set to store the unique lists\n",
        "unique_lists = set()\n",
        "\n",
        "# Loop through each list in the original list of lists\n",
        "for lst in list_of_lists:\n",
        "    # Convert the list to a tuple (because lists are not hashable, but tuples are)\n",
        "    lst_tuple = tuple(lst)\n",
        "    # Add the tuple to the set of unique tuples\n",
        "    unique_lists.add(lst_tuple)\n",
        "\n",
        "# Convert the set of unique tuples back to a list of lists\n",
        "unique_list_of_lists = [list(lst_tuple) for lst_tuple in unique_lists]\n",
        "\n",
        "# Print the original list of lists and the unique list of lists\n",
        "print(\"Original List of Lists:\")\n",
        "print(list_of_lists)\n",
        "print(\"Unique List of Lists:\")\n",
        "print(unique_list_of_lists)"
      ],
      "metadata": {
        "colab": {
          "base_uri": "https://localhost:8080/"
        },
        "id": "tV8UnmsEI-2u",
        "outputId": "37a84c4f-bf9d-4ed2-97a9-9431ee32ca75"
      },
      "execution_count": 9,
      "outputs": [
        {
          "output_type": "stream",
          "name": "stdout",
          "text": [
            "Original List of Lists:\n",
            "[[10, 20], [40], [30, 56, 25], [10, 20], [33], [40]]\n",
            "Unique List of Lists:\n",
            "[[40], [33], [30, 56, 25], [10, 20]]\n"
          ]
        }
      ]
    },
    {
      "cell_type": "code",
      "source": [
        "def shift_left(lst):\n",
        "    # Check if the list is empty or has only one element\n",
        "    if len(lst) <= 1:\n",
        "        return lst\n",
        "    # Shift the elements of the list to the left by one position\n",
        "    shifted_lst = lst[1:] + [lst[0]]\n",
        "    # Return the shifted list\n",
        "    return shifted_lst\n",
        "list1 = [1,2,3]\n",
        "print(shift_left(list1))"
      ],
      "metadata": {
        "colab": {
          "base_uri": "https://localhost:8080/"
        },
        "id": "1dEblO7-JE6C",
        "outputId": "9ae237ab-7f3f-4d8a-9349-127bcf526cfe"
      },
      "execution_count": 10,
      "outputs": [
        {
          "output_type": "stream",
          "name": "stdout",
          "text": [
            "[2, 3, 1]\n"
          ]
        }
      ]
    },
    {
      "cell_type": "code",
      "source": [
        "def count_occurrences(lst):\n",
        "    # Create an empty dictionary to store the count of each element\n",
        "    count_dict = {}\n",
        "    # Loop through each element in the list\n",
        "    for elem in lst:\n",
        "        # If the element is already in the dictionary, increment its count\n",
        "        if elem in count_dict:\n",
        "            count_dict[elem] += 1\n",
        "        # Otherwise, add the element to the dictionary with a count of 1\n",
        "        else:\n",
        "            count_dict[elem] = 1\n",
        "    # Return the dictionary of element counts\n",
        "    return count_dict\n",
        "list1 =[11, 45, 8, 11, 23, 45, 23, 45, 89, 11, 89] \n",
        "print(count_occurrences(list1))"
      ],
      "metadata": {
        "colab": {
          "base_uri": "https://localhost:8080/"
        },
        "id": "_exGc85sJH7w",
        "outputId": "e25aa641-f2bf-41d4-d74e-7dde041ad317"
      },
      "execution_count": 11,
      "outputs": [
        {
          "output_type": "stream",
          "name": "stdout",
          "text": [
            "{11: 3, 45: 3, 8: 1, 23: 2, 89: 2}\n"
          ]
        }
      ]
    },
    {
      "cell_type": "code",
      "source": [],
      "metadata": {
        "id": "iw3y51KFJLYd"
      },
      "execution_count": null,
      "outputs": []
    }
  ]
}